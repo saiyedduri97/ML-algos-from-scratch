{
 "cells": [
  {
   "cell_type": "code",
   "execution_count": 1,
   "metadata": {},
   "outputs": [],
   "source": [
    "import numpy as np\n",
    "import pandas as pd\n",
    "import matplotlib.pyplot as plt"
   ]
  },
  {
   "cell_type": "code",
   "execution_count": 4,
   "metadata": {},
   "outputs": [],
   "source": [
    "\n",
    "def preparing_data(w_true, b=0,n_samples=25, feature_range=(-3, 3),random_seed=42):\n",
    "    \"\"\"\n",
    "    Generate synthetic data for binary classification with labels in {-1, +1}.\n",
    "    \n",
    "    Parameters: \n",
    "        w_true (numpy array): True weight vector used for computing probabilities.\n",
    "        b (float): Bias term for the decision function.\n",
    "        n_samples (int): Number of samples to generate.\n",
    "        feature_range (tuple): Range for the feature values.\n",
    "        random_seed (int): Seed for random number generation.\n",
    "    Returns:\n",
    "        X (numpy array): Feature matrix of shape (n_samples, 2).\n",
    "        y (numpy array): Binary labels of shape (n_samples, 1), in the range {-1, +1}.\n",
    "        probabilities (numpy array): Probabilities of the positive class for each sample.\n",
    "    \n",
    "    Example:\n",
    "        X, y, probabilities = preparing_data(seed=42, n_samples=25, feature_range=(-3, 3), w_true=np.array([1, 2]), b=0)\n",
    "    \"\"\"\n",
    "    rng = np.random.default_rng(seed=random_seed)\n",
    "    \n",
    "    # Generate random feature samples\n",
    "    X = rng.uniform(low=feature_range[0], high=feature_range[1], size=(n_samples, 2))\n",
    "    \n",
    "    # Compute probabilities using the sigmoid function\n",
    "    z = (X @ w_true.T + b).reshape(-1, 1)\n",
    "    sigmoid = lambda z: 1 / (1 + np.exp(-z))\n",
    "    probabilities = sigmoid(z)\n",
    "    \n",
    "    # Generate binary labels based on probabilities\n",
    "    y = 2 * (rng.uniform(0, 1, size=(n_samples, 1)) <= probabilities) - 1\n",
    "    \n",
    "    return X, y, probabilities"
   ]
  },
  {
   "cell_type": "code",
   "execution_count": 11,
   "metadata": {},
   "outputs": [],
   "source": [
    "X_train,y,_=preparing_data(w_true=np.array([1,2]),\n",
    "                b=0,\n",
    "                n_samples=50,\n",
    "                feature_range=(-3,3),\n",
    "                random_seed=42)"
   ]
  },
  {
   "cell_type": "code",
   "execution_count": 16,
   "metadata": {},
   "outputs": [],
   "source": [
    "w=np.ones(shape=[1,2])\n",
    "b=0"
   ]
  },
  {
   "cell_type": "code",
   "execution_count": 34,
   "metadata": {},
   "outputs": [],
   "source": [
    "def log_loss(X_train,y,w,b=0):\n",
    "    \"\"\"\n",
    "    Function: Compute the log loss or likelihood estimate with sigmoid activation function\n",
    "    \n",
    "    Parameters:\n",
    "    X_train: Input feature matrix of shape (n_samples,n_features)\n",
    "    y: Target for each datapoibt in X_train(n_samples,1)\n",
    "    w: Weights for the respective datapoints in X_train with shape (1,n_samples)\n",
    "    b: Bias for the feature\n",
    "    \"\"\"\n",
    "    y=y.reshape(-1,1) # ensuring the labels as column vector\n",
    "    z=np.dot(X_train,w.T)+b\n",
    "    return np.mean(np.log(1+np.exp(-y*z)))\n"
   ]
  },
  {
   "cell_type": "code",
   "execution_count": 35,
   "metadata": {},
   "outputs": [
    {
     "data": {
      "text/plain": [
       "0.37707207073418836"
      ]
     },
     "execution_count": 35,
     "metadata": {},
     "output_type": "execute_result"
    }
   ],
   "source": [
    "log_loss(X_train,y,w,b=0)"
   ]
  },
  {
   "cell_type": "code",
   "execution_count": null,
   "metadata": {},
   "outputs": [],
   "source": []
  },
  {
   "cell_type": "code",
   "execution_count": null,
   "metadata": {},
   "outputs": [],
   "source": []
  },
  {
   "cell_type": "code",
   "execution_count": null,
   "metadata": {},
   "outputs": [],
   "source": []
  },
  {
   "cell_type": "code",
   "execution_count": null,
   "metadata": {},
   "outputs": [],
   "source": []
  }
 ],
 "metadata": {
  "kernelspec": {
   "display_name": "base",
   "language": "python",
   "name": "python3"
  },
  "language_info": {
   "codemirror_mode": {
    "name": "ipython",
    "version": 3
   },
   "file_extension": ".py",
   "mimetype": "text/x-python",
   "name": "python",
   "nbconvert_exporter": "python",
   "pygments_lexer": "ipython3",
   "version": "3.12.7"
  }
 },
 "nbformat": 4,
 "nbformat_minor": 2
}
